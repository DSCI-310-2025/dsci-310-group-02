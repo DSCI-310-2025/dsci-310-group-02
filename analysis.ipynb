{
 "cells": [
  {
   "cell_type": "markdown",
   "metadata": {},
   "source": [
    "# Predicting the Adoptability of Shelter Animals: A Classification Analysis"
   ]
  },
  {
   "cell_type": "markdown",
   "metadata": {},
   "source": [
    "### Group 2\n",
    "### Members: \n",
    "- "
   ]
  },
  {
   "cell_type": "code",
   "execution_count": 1,
   "metadata": {},
   "outputs": [
    {
     "name": "stderr",
     "output_type": "stream",
     "text": [
      "── \u001b[1mAttaching core tidyverse packages\u001b[22m ──────────────────────── tidyverse 2.0.0 ──\n",
      "\u001b[32m✔\u001b[39m \u001b[34mdplyr    \u001b[39m 1.1.4     \u001b[32m✔\u001b[39m \u001b[34mpurrr    \u001b[39m 1.0.4\n",
      "\u001b[32m✔\u001b[39m \u001b[34mforcats  \u001b[39m 1.0.0     \u001b[32m✔\u001b[39m \u001b[34mstringr  \u001b[39m 1.5.1\n",
      "\u001b[32m✔\u001b[39m \u001b[34mggplot2  \u001b[39m 3.5.1     \u001b[32m✔\u001b[39m \u001b[34mtibble   \u001b[39m 3.2.1\n",
      "\u001b[32m✔\u001b[39m \u001b[34mlubridate\u001b[39m 1.9.4     \u001b[32m✔\u001b[39m \u001b[34mtidyr    \u001b[39m 1.3.1\n",
      "── \u001b[1mConflicts\u001b[22m ────────────────────────────────────────── tidyverse_conflicts() ──\n",
      "\u001b[31m✖\u001b[39m \u001b[34mdplyr\u001b[39m::\u001b[32mfilter()\u001b[39m masks \u001b[34mstats\u001b[39m::filter()\n",
      "\u001b[31m✖\u001b[39m \u001b[34mdplyr\u001b[39m::\u001b[32mlag()\u001b[39m    masks \u001b[34mstats\u001b[39m::lag()\n",
      "\u001b[36mℹ\u001b[39m Use the conflicted package (\u001b[3m\u001b[34m<http://conflicted.r-lib.org/>\u001b[39m\u001b[23m) to force all conflicts to become errors\n",
      "── \u001b[1mAttaching packages\u001b[22m ────────────────────────────────────── tidymodels 1.3.0 ──\n",
      "\n",
      "\u001b[32m✔\u001b[39m \u001b[34mbroom       \u001b[39m 1.0.7     \u001b[32m✔\u001b[39m \u001b[34mrsample     \u001b[39m 1.2.1\n",
      "\u001b[32m✔\u001b[39m \u001b[34mdials       \u001b[39m 1.4.0     \u001b[32m✔\u001b[39m \u001b[34mtune        \u001b[39m 1.3.0\n",
      "\u001b[32m✔\u001b[39m \u001b[34minfer       \u001b[39m 1.0.7     \u001b[32m✔\u001b[39m \u001b[34mworkflows   \u001b[39m 1.2.0\n",
      "\u001b[32m✔\u001b[39m \u001b[34mmodeldata   \u001b[39m 1.4.0     \u001b[32m✔\u001b[39m \u001b[34mworkflowsets\u001b[39m 1.1.0\n",
      "\u001b[32m✔\u001b[39m \u001b[34mparsnip     \u001b[39m 1.3.0     \u001b[32m✔\u001b[39m \u001b[34myardstick   \u001b[39m 1.3.2\n",
      "\u001b[32m✔\u001b[39m \u001b[34mrecipes     \u001b[39m 1.1.1     \n",
      "\n",
      "── \u001b[1mConflicts\u001b[22m ───────────────────────────────────────── tidymodels_conflicts() ──\n",
      "\u001b[31m✖\u001b[39m \u001b[34mscales\u001b[39m::\u001b[32mdiscard()\u001b[39m masks \u001b[34mpurrr\u001b[39m::discard()\n",
      "\u001b[31m✖\u001b[39m \u001b[34mdplyr\u001b[39m::\u001b[32mfilter()\u001b[39m   masks \u001b[34mstats\u001b[39m::filter()\n",
      "\u001b[31m✖\u001b[39m \u001b[34mrecipes\u001b[39m::\u001b[32mfixed()\u001b[39m  masks \u001b[34mstringr\u001b[39m::fixed()\n",
      "\u001b[31m✖\u001b[39m \u001b[34mdplyr\u001b[39m::\u001b[32mlag()\u001b[39m      masks \u001b[34mstats\u001b[39m::lag()\n",
      "\u001b[31m✖\u001b[39m \u001b[34myardstick\u001b[39m::\u001b[32mspec()\u001b[39m masks \u001b[34mreadr\u001b[39m::spec()\n",
      "\u001b[31m✖\u001b[39m \u001b[34mrecipes\u001b[39m::\u001b[32mstep()\u001b[39m   masks \u001b[34mstats\u001b[39m::step()\n",
      "\n"
     ]
    },
    {
     "ename": "ERROR",
     "evalue": "Error in library(caret): there is no package called ‘caret’\n",
     "output_type": "error",
     "traceback": [
      "Error in library(caret): there is no package called ‘caret’\nTraceback:\n",
      "1. stop(packageNotFoundError(package, lib.loc, sys.call()))"
     ]
    }
   ],
   "source": [
    "library(readr)\n",
    "library(tidyverse)\n",
    "library(ggplot2) \n",
    "library(tidymodels)\n",
    "library(caret)"
   ]
  },
  {
   "cell_type": "markdown",
   "metadata": {},
   "source": [
    "## Summary"
   ]
  },
  {
   "cell_type": "markdown",
   "metadata": {},
   "source": []
  },
  {
   "cell_type": "markdown",
   "metadata": {},
   "source": [
    "## Introduction"
   ]
  },
  {
   "cell_type": "markdown",
   "metadata": {},
   "source": []
  },
  {
   "cell_type": "markdown",
   "metadata": {},
   "source": [
    "## Methods and Results"
   ]
  },
  {
   "cell_type": "markdown",
   "metadata": {},
   "source": [
    "*Written explanation:* "
   ]
  },
  {
   "cell_type": "code",
   "execution_count": 2,
   "metadata": {},
   "outputs": [
    {
     "data": {
      "text/html": [
       "<table class=\"dataframe\">\n",
       "<caption>A tibble: 6 × 22</caption>\n",
       "<thead>\n",
       "\t<tr><th scope=col>animal_id</th><th scope=col>animal_name</th><th scope=col>animal_type</th><th scope=col>primary_color</th><th scope=col>secondary_color</th><th scope=col>sex</th><th scope=col>dob</th><th scope=col>intake_date</th><th scope=col>intake_condition</th><th scope=col>intake_type</th><th scope=col>⋯</th><th scope=col>outcome_date</th><th scope=col>crossing</th><th scope=col>jurisdiction</th><th scope=col>outcome_type</th><th scope=col>outcome_subtype</th><th scope=col>latitude</th><th scope=col>longitude</th><th scope=col>outcome_is_dead</th><th scope=col>was_outcome_alive</th><th scope=col>geopoint</th></tr>\n",
       "\t<tr><th scope=col>&lt;chr&gt;</th><th scope=col>&lt;chr&gt;</th><th scope=col>&lt;chr&gt;</th><th scope=col>&lt;chr&gt;</th><th scope=col>&lt;chr&gt;</th><th scope=col>&lt;chr&gt;</th><th scope=col>&lt;date&gt;</th><th scope=col>&lt;date&gt;</th><th scope=col>&lt;chr&gt;</th><th scope=col>&lt;chr&gt;</th><th scope=col>⋯</th><th scope=col>&lt;date&gt;</th><th scope=col>&lt;chr&gt;</th><th scope=col>&lt;chr&gt;</th><th scope=col>&lt;chr&gt;</th><th scope=col>&lt;chr&gt;</th><th scope=col>&lt;dbl&gt;</th><th scope=col>&lt;dbl&gt;</th><th scope=col>&lt;lgl&gt;</th><th scope=col>&lt;lgl&gt;</th><th scope=col>&lt;chr&gt;</th></tr>\n",
       "</thead>\n",
       "<tbody>\n",
       "\t<tr><td>A693708</td><td>*charlien</td><td>dog    </td><td>white</td><td>NA   </td><td>Female  </td><td>2013-02-21</td><td>2023-02-20</td><td>ill mild       </td><td>stray   </td><td>⋯</td><td>2023-02-26</td><td>[2600 BLK LONG BEACH BLVD, LONG BEACH CA, 90806</td><td>Long Beach</td><td>euthanasia</td><td>ill severe</td><td>33.80479</td><td>-118.1889</td><td> TRUE</td><td>FALSE</td><td>33.8047935, -118.1889261</td></tr>\n",
       "\t<tr><td>A708149</td><td>NA       </td><td>reptile</td><td>brown</td><td>green</td><td>Unknown </td><td>NA</td><td>2023-10-03</td><td>normal         </td><td>stray   </td><td>⋯</td><td>2023-10-03</td><td>`600 BLK E HARCOURT, LB 90805                  </td><td>Long Beach</td><td>rescue    </td><td>other resc</td><td>33.86800</td><td>-118.2009</td><td>FALSE</td><td> TRUE</td><td>33.8679994, -118.2009307</td></tr>\n",
       "\t<tr><td>A638068</td><td>NA       </td><td>bird   </td><td>green</td><td>red  </td><td>Unknown </td><td>NA</td><td>2020-01-01</td><td>injured  severe</td><td>wildlife</td><td>⋯</td><td>2020-01-01</td><td>0 BLK GRAND AVE, LONG BEACH, CA 90803          </td><td>Long Beach</td><td>euthanasia</td><td>inj severe</td><td>33.76048</td><td>-118.1481</td><td> TRUE</td><td>FALSE</td><td>33.7604783, -118.1480912</td></tr>\n",
       "\t<tr><td>A639310</td><td>NA       </td><td>bird   </td><td>white</td><td>gray </td><td>Unknown </td><td>NA</td><td>2020-02-02</td><td>ill severe     </td><td>wildlife</td><td>⋯</td><td>2020-02-02</td><td>0 BLK TEMPLE AVE, LONG BEACH, CA 90803         </td><td>Long Beach</td><td>transfer  </td><td>lbah      </td><td>33.76246</td><td>-118.1597</td><td>FALSE</td><td> TRUE</td><td>33.7624598, -118.1596777</td></tr>\n",
       "\t<tr><td>A618968</td><td>*morgan  </td><td>cat    </td><td>black</td><td>white</td><td>Female  </td><td>2014-12-18</td><td>2018-12-18</td><td>injured  severe</td><td>stray   </td><td>⋯</td><td>2019-01-13</td><td>0 BLK W ZANE ST, LONG BEACH, CA 90805          </td><td>Long Beach</td><td>rescue    </td><td>littlelion</td><td>33.84950</td><td>-118.1949</td><td>FALSE</td><td> TRUE</td><td>33.8495009, -118.1949053</td></tr>\n",
       "\t<tr><td>A730385</td><td>*brandon </td><td>rabbit </td><td>black</td><td>white</td><td>Neutered</td><td>2023-04-19</td><td>2024-10-18</td><td>normal         </td><td>stray   </td><td>⋯</td><td>2024-11-15</td><td>00 AQUARIUM WAY LONG BEACH CA 90802            </td><td>Long Beach</td><td>adoption  </td><td>web       </td><td>33.76399</td><td>-118.1944</td><td>FALSE</td><td> TRUE</td><td>33.7639859, -118.1944096</td></tr>\n",
       "</tbody>\n",
       "</table>\n"
      ],
      "text/latex": [
       "A tibble: 6 × 22\n",
       "\\begin{tabular}{lllllllllllllllllllll}\n",
       " animal\\_id & animal\\_name & animal\\_type & primary\\_color & secondary\\_color & sex & dob & intake\\_date & intake\\_condition & intake\\_type & ⋯ & outcome\\_date & crossing & jurisdiction & outcome\\_type & outcome\\_subtype & latitude & longitude & outcome\\_is\\_dead & was\\_outcome\\_alive & geopoint\\\\\n",
       " <chr> & <chr> & <chr> & <chr> & <chr> & <chr> & <date> & <date> & <chr> & <chr> & ⋯ & <date> & <chr> & <chr> & <chr> & <chr> & <dbl> & <dbl> & <lgl> & <lgl> & <chr>\\\\\n",
       "\\hline\n",
       "\t A693708 & *charlien & dog     & white & NA    & Female   & 2013-02-21 & 2023-02-20 & ill mild        & stray    & ⋯ & 2023-02-26 & {[}2600 BLK LONG BEACH BLVD, LONG BEACH CA, 90806 & Long Beach & euthanasia & ill severe & 33.80479 & -118.1889 &  TRUE & FALSE & 33.8047935, -118.1889261\\\\\n",
       "\t A708149 & NA        & reptile & brown & green & Unknown  & NA & 2023-10-03 & normal          & stray    & ⋯ & 2023-10-03 & `600 BLK E HARCOURT, LB 90805                   & Long Beach & rescue     & other resc & 33.86800 & -118.2009 & FALSE &  TRUE & 33.8679994, -118.2009307\\\\\n",
       "\t A638068 & NA        & bird    & green & red   & Unknown  & NA & 2020-01-01 & injured  severe & wildlife & ⋯ & 2020-01-01 & 0 BLK GRAND AVE, LONG BEACH, CA 90803           & Long Beach & euthanasia & inj severe & 33.76048 & -118.1481 &  TRUE & FALSE & 33.7604783, -118.1480912\\\\\n",
       "\t A639310 & NA        & bird    & white & gray  & Unknown  & NA & 2020-02-02 & ill severe      & wildlife & ⋯ & 2020-02-02 & 0 BLK TEMPLE AVE, LONG BEACH, CA 90803          & Long Beach & transfer   & lbah       & 33.76246 & -118.1597 & FALSE &  TRUE & 33.7624598, -118.1596777\\\\\n",
       "\t A618968 & *morgan   & cat     & black & white & Female   & 2014-12-18 & 2018-12-18 & injured  severe & stray    & ⋯ & 2019-01-13 & 0 BLK W ZANE ST, LONG BEACH, CA 90805           & Long Beach & rescue     & littlelion & 33.84950 & -118.1949 & FALSE &  TRUE & 33.8495009, -118.1949053\\\\\n",
       "\t A730385 & *brandon  & rabbit  & black & white & Neutered & 2023-04-19 & 2024-10-18 & normal          & stray    & ⋯ & 2024-11-15 & 00 AQUARIUM WAY LONG BEACH CA 90802             & Long Beach & adoption   & web        & 33.76399 & -118.1944 & FALSE &  TRUE & 33.7639859, -118.1944096\\\\\n",
       "\\end{tabular}\n"
      ],
      "text/markdown": [
       "\n",
       "A tibble: 6 × 22\n",
       "\n",
       "| animal_id &lt;chr&gt; | animal_name &lt;chr&gt; | animal_type &lt;chr&gt; | primary_color &lt;chr&gt; | secondary_color &lt;chr&gt; | sex &lt;chr&gt; | dob &lt;date&gt; | intake_date &lt;date&gt; | intake_condition &lt;chr&gt; | intake_type &lt;chr&gt; | ⋯ ⋯ | outcome_date &lt;date&gt; | crossing &lt;chr&gt; | jurisdiction &lt;chr&gt; | outcome_type &lt;chr&gt; | outcome_subtype &lt;chr&gt; | latitude &lt;dbl&gt; | longitude &lt;dbl&gt; | outcome_is_dead &lt;lgl&gt; | was_outcome_alive &lt;lgl&gt; | geopoint &lt;chr&gt; |\n",
       "|---|---|---|---|---|---|---|---|---|---|---|---|---|---|---|---|---|---|---|---|---|\n",
       "| A693708 | *charlien | dog     | white | NA    | Female   | 2013-02-21 | 2023-02-20 | ill mild        | stray    | ⋯ | 2023-02-26 | [2600 BLK LONG BEACH BLVD, LONG BEACH CA, 90806 | Long Beach | euthanasia | ill severe | 33.80479 | -118.1889 |  TRUE | FALSE | 33.8047935, -118.1889261 |\n",
       "| A708149 | NA        | reptile | brown | green | Unknown  | NA | 2023-10-03 | normal          | stray    | ⋯ | 2023-10-03 | `600 BLK E HARCOURT, LB 90805                   | Long Beach | rescue     | other resc | 33.86800 | -118.2009 | FALSE |  TRUE | 33.8679994, -118.2009307 |\n",
       "| A638068 | NA        | bird    | green | red   | Unknown  | NA | 2020-01-01 | injured  severe | wildlife | ⋯ | 2020-01-01 | 0 BLK GRAND AVE, LONG BEACH, CA 90803           | Long Beach | euthanasia | inj severe | 33.76048 | -118.1481 |  TRUE | FALSE | 33.7604783, -118.1480912 |\n",
       "| A639310 | NA        | bird    | white | gray  | Unknown  | NA | 2020-02-02 | ill severe      | wildlife | ⋯ | 2020-02-02 | 0 BLK TEMPLE AVE, LONG BEACH, CA 90803          | Long Beach | transfer   | lbah       | 33.76246 | -118.1597 | FALSE |  TRUE | 33.7624598, -118.1596777 |\n",
       "| A618968 | *morgan   | cat     | black | white | Female   | 2014-12-18 | 2018-12-18 | injured  severe | stray    | ⋯ | 2019-01-13 | 0 BLK W ZANE ST, LONG BEACH, CA 90805           | Long Beach | rescue     | littlelion | 33.84950 | -118.1949 | FALSE |  TRUE | 33.8495009, -118.1949053 |\n",
       "| A730385 | *brandon  | rabbit  | black | white | Neutered | 2023-04-19 | 2024-10-18 | normal          | stray    | ⋯ | 2024-11-15 | 00 AQUARIUM WAY LONG BEACH CA 90802             | Long Beach | adoption   | web        | 33.76399 | -118.1944 | FALSE |  TRUE | 33.7639859, -118.1944096 |\n",
       "\n"
      ],
      "text/plain": [
       "  animal_id animal_name animal_type primary_color secondary_color sex     \n",
       "1 A693708   *charlien   dog         white         NA              Female  \n",
       "2 A708149   NA          reptile     brown         green           Unknown \n",
       "3 A638068   NA          bird        green         red             Unknown \n",
       "4 A639310   NA          bird        white         gray            Unknown \n",
       "5 A618968   *morgan     cat         black         white           Female  \n",
       "6 A730385   *brandon    rabbit      black         white           Neutered\n",
       "  dob        intake_date intake_condition intake_type ⋯ outcome_date\n",
       "1 2013-02-21 2023-02-20  ill mild         stray       ⋯ 2023-02-26  \n",
       "2 <NA>       2023-10-03  normal           stray       ⋯ 2023-10-03  \n",
       "3 <NA>       2020-01-01  injured  severe  wildlife    ⋯ 2020-01-01  \n",
       "4 <NA>       2020-02-02  ill severe       wildlife    ⋯ 2020-02-02  \n",
       "5 2014-12-18 2018-12-18  injured  severe  stray       ⋯ 2019-01-13  \n",
       "6 2023-04-19 2024-10-18  normal           stray       ⋯ 2024-11-15  \n",
       "  crossing                                        jurisdiction outcome_type\n",
       "1 [2600 BLK LONG BEACH BLVD, LONG BEACH CA, 90806 Long Beach   euthanasia  \n",
       "2 `600 BLK E HARCOURT, LB 90805                   Long Beach   rescue      \n",
       "3 0 BLK GRAND AVE, LONG BEACH, CA 90803           Long Beach   euthanasia  \n",
       "4 0 BLK TEMPLE AVE, LONG BEACH, CA 90803          Long Beach   transfer    \n",
       "5 0 BLK W ZANE ST, LONG BEACH, CA 90805           Long Beach   rescue      \n",
       "6 00 AQUARIUM WAY LONG BEACH CA 90802             Long Beach   adoption    \n",
       "  outcome_subtype latitude longitude outcome_is_dead was_outcome_alive\n",
       "1 ill severe      33.80479 -118.1889  TRUE           FALSE            \n",
       "2 other resc      33.86800 -118.2009 FALSE            TRUE            \n",
       "3 inj severe      33.76048 -118.1481  TRUE           FALSE            \n",
       "4 lbah            33.76246 -118.1597 FALSE            TRUE            \n",
       "5 littlelion      33.84950 -118.1949 FALSE            TRUE            \n",
       "6 web             33.76399 -118.1944 FALSE            TRUE            \n",
       "  geopoint                \n",
       "1 33.8047935, -118.1889261\n",
       "2 33.8679994, -118.2009307\n",
       "3 33.7604783, -118.1480912\n",
       "4 33.7624598, -118.1596777\n",
       "5 33.8495009, -118.1949053\n",
       "6 33.7639859, -118.1944096"
      ]
     },
     "metadata": {},
     "output_type": "display_data"
    }
   ],
   "source": [
    "animals <- read_csv(\"https://raw.githubusercontent.com/rfordatascience/tidytuesday/refs/heads/main/data/2025/2025-03-04/longbeach.csv\", show_col_types = FALSE) \n",
    "head(animals)"
   ]
  },
  {
   "cell_type": "code",
   "execution_count": 3,
   "metadata": {},
   "outputs": [
    {
     "data": {
      "text/html": [
       "<table class=\"dataframe\">\n",
       "<caption>A tibble: 6 × 10</caption>\n",
       "<thead>\n",
       "\t<tr><th scope=col>animal_type</th><th scope=col>primary_color</th><th scope=col>sex</th><th scope=col>dob</th><th scope=col>intake_condition</th><th scope=col>intake_type</th><th scope=col>outcome_type</th><th scope=col>intake_date</th><th scope=col>outcome_date</th><th scope=col>outcome_group</th></tr>\n",
       "\t<tr><th scope=col>&lt;chr&gt;</th><th scope=col>&lt;chr&gt;</th><th scope=col>&lt;chr&gt;</th><th scope=col>&lt;date&gt;</th><th scope=col>&lt;chr&gt;</th><th scope=col>&lt;chr&gt;</th><th scope=col>&lt;chr&gt;</th><th scope=col>&lt;date&gt;</th><th scope=col>&lt;date&gt;</th><th scope=col>&lt;chr&gt;</th></tr>\n",
       "</thead>\n",
       "<tbody>\n",
       "\t<tr><td>dog   </td><td>white</td><td>Female  </td><td>2013-02-21</td><td>ill mild        </td><td>stray          </td><td>euthanasia</td><td>2023-02-20</td><td>2023-02-26</td><td>Not Adopted</td></tr>\n",
       "\t<tr><td>cat   </td><td>black</td><td>Female  </td><td>2014-12-18</td><td>injured  severe </td><td>stray          </td><td>rescue    </td><td>2018-12-18</td><td>2019-01-13</td><td>Adopted    </td></tr>\n",
       "\t<tr><td>rabbit</td><td>black</td><td>Neutered</td><td>2023-04-19</td><td>normal          </td><td>stray          </td><td>adoption  </td><td>2024-10-18</td><td>2024-11-15</td><td>Adopted    </td></tr>\n",
       "\t<tr><td>other </td><td>gray </td><td>Unknown </td><td>2019-04-12</td><td>under age/weight</td><td>wildlife       </td><td>rescue    </td><td>2019-06-12</td><td>2019-06-12</td><td>Adopted    </td></tr>\n",
       "\t<tr><td>cat   </td><td>black</td><td>Unknown </td><td>2017-08-21</td><td>under age/weight</td><td>stray          </td><td>rescue    </td><td>2017-09-21</td><td>2017-09-23</td><td>Adopted    </td></tr>\n",
       "\t<tr><td>dog   </td><td>cream</td><td>Spayed  </td><td>2007-12-15</td><td>aged            </td><td>owner surrender</td><td>rescue    </td><td>2024-12-15</td><td>2024-12-21</td><td>Adopted    </td></tr>\n",
       "</tbody>\n",
       "</table>\n"
      ],
      "text/latex": [
       "A tibble: 6 × 10\n",
       "\\begin{tabular}{llllllllll}\n",
       " animal\\_type & primary\\_color & sex & dob & intake\\_condition & intake\\_type & outcome\\_type & intake\\_date & outcome\\_date & outcome\\_group\\\\\n",
       " <chr> & <chr> & <chr> & <date> & <chr> & <chr> & <chr> & <date> & <date> & <chr>\\\\\n",
       "\\hline\n",
       "\t dog    & white & Female   & 2013-02-21 & ill mild         & stray           & euthanasia & 2023-02-20 & 2023-02-26 & Not Adopted\\\\\n",
       "\t cat    & black & Female   & 2014-12-18 & injured  severe  & stray           & rescue     & 2018-12-18 & 2019-01-13 & Adopted    \\\\\n",
       "\t rabbit & black & Neutered & 2023-04-19 & normal           & stray           & adoption   & 2024-10-18 & 2024-11-15 & Adopted    \\\\\n",
       "\t other  & gray  & Unknown  & 2019-04-12 & under age/weight & wildlife        & rescue     & 2019-06-12 & 2019-06-12 & Adopted    \\\\\n",
       "\t cat    & black & Unknown  & 2017-08-21 & under age/weight & stray           & rescue     & 2017-09-21 & 2017-09-23 & Adopted    \\\\\n",
       "\t dog    & cream & Spayed   & 2007-12-15 & aged             & owner surrender & rescue     & 2024-12-15 & 2024-12-21 & Adopted    \\\\\n",
       "\\end{tabular}\n"
      ],
      "text/markdown": [
       "\n",
       "A tibble: 6 × 10\n",
       "\n",
       "| animal_type &lt;chr&gt; | primary_color &lt;chr&gt; | sex &lt;chr&gt; | dob &lt;date&gt; | intake_condition &lt;chr&gt; | intake_type &lt;chr&gt; | outcome_type &lt;chr&gt; | intake_date &lt;date&gt; | outcome_date &lt;date&gt; | outcome_group &lt;chr&gt; |\n",
       "|---|---|---|---|---|---|---|---|---|---|\n",
       "| dog    | white | Female   | 2013-02-21 | ill mild         | stray           | euthanasia | 2023-02-20 | 2023-02-26 | Not Adopted |\n",
       "| cat    | black | Female   | 2014-12-18 | injured  severe  | stray           | rescue     | 2018-12-18 | 2019-01-13 | Adopted     |\n",
       "| rabbit | black | Neutered | 2023-04-19 | normal           | stray           | adoption   | 2024-10-18 | 2024-11-15 | Adopted     |\n",
       "| other  | gray  | Unknown  | 2019-04-12 | under age/weight | wildlife        | rescue     | 2019-06-12 | 2019-06-12 | Adopted     |\n",
       "| cat    | black | Unknown  | 2017-08-21 | under age/weight | stray           | rescue     | 2017-09-21 | 2017-09-23 | Adopted     |\n",
       "| dog    | cream | Spayed   | 2007-12-15 | aged             | owner surrender | rescue     | 2024-12-15 | 2024-12-21 | Adopted     |\n",
       "\n"
      ],
      "text/plain": [
       "  animal_type primary_color sex      dob        intake_condition\n",
       "1 dog         white         Female   2013-02-21 ill mild        \n",
       "2 cat         black         Female   2014-12-18 injured  severe \n",
       "3 rabbit      black         Neutered 2023-04-19 normal          \n",
       "4 other       gray          Unknown  2019-04-12 under age/weight\n",
       "5 cat         black         Unknown  2017-08-21 under age/weight\n",
       "6 dog         cream         Spayed   2007-12-15 aged            \n",
       "  intake_type     outcome_type intake_date outcome_date outcome_group\n",
       "1 stray           euthanasia   2023-02-20  2023-02-26   Not Adopted  \n",
       "2 stray           rescue       2018-12-18  2019-01-13   Adopted      \n",
       "3 stray           adoption     2024-10-18  2024-11-15   Adopted      \n",
       "4 wildlife        rescue       2019-06-12  2019-06-12   Adopted      \n",
       "5 stray           rescue       2017-09-21  2017-09-23   Adopted      \n",
       "6 owner surrender rescue       2024-12-15  2024-12-21   Adopted      "
      ]
     },
     "metadata": {},
     "output_type": "display_data"
    }
   ],
   "source": [
    "#cleaning the data: \n",
    "animals <- animals %>% \n",
    "    select(animal_type, primary_color, sex, dob, intake_condition, intake_type, outcome_type, intake_date, outcome_date) %>% \n",
    "    #filter(animal_type != \"other\") %>%\n",
    "    na.omit()\n",
    "\n",
    "animals$outcome_group <- recode(animals$outcome_type,\n",
    "  \"adoption\" = \"Adopted\",\n",
    "  \"foster\" = \"Adopted\",\n",
    "  \"foster to adopt\" = \"Adopted\",\n",
    "  \"homefirst\" = \"Adopted\",\n",
    "  \"rescue\" = \"Adopted\",\n",
    "  .default = \"Not Adopted\"  # Everything else is considered \"Not Adopted\"\n",
    ")\n",
    "\n",
    "head(animals)"
   ]
  },
  {
   "cell_type": "code",
   "execution_count": 4,
   "metadata": {},
   "outputs": [
    {
     "data": {
      "text/plain": [
       " animal_type        primary_color          sex                 dob            \n",
       " Length:26011       Length:26011       Length:26011       Min.   :1993-05-28  \n",
       " Class :character   Class :character   Class :character   1st Qu.:2016-07-01  \n",
       " Mode  :character   Mode  :character   Mode  :character   Median :2018-10-15  \n",
       "                                                          Mean   :2018-07-30  \n",
       "                                                          3rd Qu.:2022-01-12  \n",
       "                                                          Max.   :2031-03-30  \n",
       " intake_condition   intake_type        outcome_type        intake_date        \n",
       " Length:26011       Length:26011       Length:26011       Min.   :2017-01-01  \n",
       " Class :character   Class :character   Class :character   1st Qu.:2018-07-30  \n",
       " Mode  :character   Mode  :character   Mode  :character   Median :2020-06-27  \n",
       "                                                          Mean   :2020-10-24  \n",
       "                                                          3rd Qu.:2023-04-08  \n",
       "                                                          Max.   :2024-12-31  \n",
       "  outcome_date        outcome_group     \n",
       " Min.   :2017-01-01   Length:26011      \n",
       " 1st Qu.:2018-08-11   Class :character  \n",
       " Median :2020-07-15   Mode  :character  \n",
       " Mean   :2020-11-14                     \n",
       " 3rd Qu.:2023-04-23                     \n",
       " Max.   :2024-12-31                     "
      ]
     },
     "metadata": {},
     "output_type": "display_data"
    },
    {
     "data": {
      "text/plain": [
       "\n",
       "    Adopted Not Adopted \n",
       "      12327       13684 "
      ]
     },
     "metadata": {},
     "output_type": "display_data"
    },
    {
     "data": {
      "text/plain": [
       "\n",
       "               adoption           community cat                    died \n",
       "                   6156                     334                     585 \n",
       "               disposal               duplicate              euthanasia \n",
       "                     45                      27                    4148 \n",
       "                 foster         foster to adopt               homefirst \n",
       "                     10                     164                      86 \n",
       "                missing                  rescue         return to owner \n",
       "                     54                    5911                    3107 \n",
       "       return to rescue  return to wild habitat shelter, neuter, return \n",
       "                     46                     146                     896 \n",
       "               transfer               transport   trap, neuter, release \n",
       "                   4128                     133                      35 "
      ]
     },
     "metadata": {},
     "output_type": "display_data"
    },
    {
     "data": {
      "text/plain": [
       "\n",
       "              aged     behavior  mild behavior  moderate   behavior  severe \n",
       "               155                 68                124                 68 \n",
       "             feral          fractious         i/i report           ill mild \n",
       "               278                634                224               1040 \n",
       "    ill moderatete         ill severe      injured  mild  injured  moderate \n",
       "               759                991                710                780 \n",
       "   injured  severe         intakeexam             normal   under age/weight \n",
       "              1393                  1              12762               5964 \n",
       "  welfare seizures \n",
       "                60 "
      ]
     },
     "metadata": {},
     "output_type": "display_data"
    }
   ],
   "source": [
    "#summary of the data: \n",
    "summary(animals)\n",
    "table(animals$outcome_group)\n",
    "table(animals$outcome_type)\n",
    "table(animals$intake_condition)"
   ]
  },
  {
   "cell_type": "markdown",
   "metadata": {},
   "source": [
    "### Exploratory Analysis Visualizations "
   ]
  },
  {
   "cell_type": "code",
   "execution_count": null,
   "metadata": {},
   "outputs": [],
   "source": [
    "ggplot(animals, aes(x = animal_type, fill = outcome_type)) +\n",
    "  geom_bar(position = \"fill\") +  \n",
    "  labs(title = \"Animal Type vs Outcome Type\",\n",
    "       x = \"Animal Type\",\n",
    "       y = \"Proportion\") +\n",
    "  theme_minimal() +\n",
    "  scale_y_continuous(labels = scales::percent)\n",
    "\n",
    "ggplot(animals, aes(x = animal_type, fill = outcome_group)) +\n",
    "  geom_bar(position = \"fill\") + \n",
    "  labs(title = \"Animal Type vs Outcome Group (adopted / not adopted)\",\n",
    "       x = \"Animal Type\",\n",
    "       y = \"Proportion\") +\n",
    "  theme_minimal() +\n",
    "  scale_y_continuous(labels = scales::percent)"
   ]
  },
  {
   "cell_type": "code",
   "execution_count": null,
   "metadata": {},
   "outputs": [],
   "source": [
    "ggplot(animals, aes(x = intake_condition, fill = outcome_type)) +\n",
    "  geom_bar(position = \"fill\") + \n",
    "  labs(title = \"Intake Condition vs Outcome Type\",\n",
    "       x = \"Intake Condition\",\n",
    "       y = \"Proportion\") +\n",
    "  theme_minimal() +\n",
    "  scale_y_continuous(labels = scales::percent) +\n",
    "  theme(axis.text.x = element_text(angle = 45, hjust = 1))\n",
    "\n",
    "ggplot(animals, aes(x = intake_condition, fill = outcome_group)) +\n",
    "  geom_bar(position = \"fill\") +\n",
    "  labs(title = \"Intake Condition vs Outcome Group (adopted / not adopted)\",\n",
    "       x = \"Intake Condition\",\n",
    "       y = \"Proportion\") +\n",
    "  theme_minimal() +\n",
    "  scale_y_continuous(labels = scales::percent) +\n",
    "  theme(axis.text.x = element_text(angle = 45, hjust = 1))"
   ]
  },
  {
   "cell_type": "code",
   "execution_count": null,
   "metadata": {},
   "outputs": [],
   "source": [
    "animals$age_at_intake <- as.numeric(difftime(Sys.Date(), animals$dob, units = \"days\")) / 365\n",
    "\n",
    "# Boxplot of age at intake vs outcome_type\n",
    "ggplot(animals, aes(x = outcome_group, y = age_at_intake, fill = outcome_group)) +\n",
    "  geom_boxplot() +\n",
    "  labs(title = \"Age at Intake vs Outcome Group (adopted / not adopted)\",\n",
    "       x = \"Outcome Type\",\n",
    "       y = \"Age at Intake (Years)\") +\n",
    "  theme_minimal()"
   ]
  },
  {
   "cell_type": "markdown",
   "metadata": {},
   "source": [
    "### Feature Engineering"
   ]
  },
  {
   "cell_type": "code",
   "execution_count": null,
   "metadata": {},
   "outputs": [],
   "source": [
    "animals$dob <- as.Date(animals$dob)\n",
    "animals$intake_date <- as.Date(animals$intake_date)\n",
    "animals$outcome_date <- as.Date(animals$outcome_date)\n",
    "\n",
    "animals <- animals |> \n",
    "  mutate(days_in_shelter = outcome_date - intake_date, age_in_days = outcome_date - dob )"
   ]
  },
  {
   "cell_type": "markdown",
   "metadata": {},
   "source": [
    "Since studies have shown that the longer animals have been in a shelter, the less likely they are to be adopted. In order to utilize this knowledge as a feature we have created the ```days_in_shelter``` feature by finding the number of days they were in the shelter from their intake day to their outcome day. \n",
    "\n",
    "Additionally, many pets are more likely to be adopted when they are young, with older animals being less likely to get adopted. If we were to just use their date of birth as the predictor it would not actually account for how old the animal is was when the left the shelter. To better represent that age we have created the ```age_in_days``` feature, which calculates the number of days old the animal was one their outcome day using ```dob``` and ```outcome_date```."
   ]
  },
  {
   "cell_type": "code",
   "execution_count": null,
   "metadata": {},
   "outputs": [],
   "source": [
    "animals <- animals |> \n",
    "  mutate(age_in_days = as.numeric(age_in_days), days_in_shelter = as.numeric(days_in_shelter)) |> \n",
    "  select('animal_type', 'sex', 'intake_condition', 'intake_type', 'days_in_shelter', 'age_in_days', 'outcome_group')\n",
    "head(animals)"
   ]
  },
  {
   "cell_type": "markdown",
   "metadata": {},
   "source": [
    "### Classification Analysis "
   ]
  },
  {
   "cell_type": "markdown",
   "metadata": {},
   "source": [
    "We currently have one large data set that contains all of our animal shelter observations. In order to be able to gauge the performance of our classification model we need to split it into two data set: training data and testing data.\n",
    "\n",
    "We will use the training data (```train_data```) to build our model and tune our model and save our testing data (```test_data```) to test the final accuracy of the model on new, unseen data. This will give us an estimate of how the model would perform give unclassified, 'real-world' data."
   ]
  },
  {
   "cell_type": "code",
   "execution_count": null,
   "metadata": {},
   "outputs": [],
   "source": [
    "# Splitting data into train and test data\n",
    "set.seed(2)\n",
    "data_split <- initial_split(animals, prop = 0.7, strata = outcome_group)\n",
    "train_data <- training(data_split)\n",
    "test_data <- testing(data_split)\n",
    "head(train_data)"
   ]
  },
  {
   "cell_type": "markdown",
   "metadata": {},
   "source": [
    "Now we have to build our classification model. \n",
    "\n",
    "We are using **K-Nearest Neighbors** as our classification model as it doesn't have an specific assumption about data distribution, it is robust to noise data, it is easy to implement and tune, and it is an efficient model since it does not require a training phase. \n",
    "\n",
    "To tune our model, we are finding the accuracy of the model using different numbers of neighbors (k) from 1 to 25. The higher the k value, the more complex our model becomes, so it is important to ensure that the k is not too high and causing the model to over fit to our training data, and not be general enough to accurately predict the training data."
   ]
  },
  {
   "cell_type": "code",
   "execution_count": null,
   "metadata": {},
   "outputs": [],
   "source": [
    "recipe <- recipe(outcome_group ~ ., data = train_data) %>%\n",
    "  step_novel(all_nominal_predictors()) %>%  # Handle new levels\n",
    "  step_dummy(all_nominal_predictors()) %>%  # Convert categorical to dummy variables\n",
    "  step_normalize(days_in_shelter, age_in_days)        # Normalize the numerical predictor\n",
    "\n",
    "knn_spec <- nearest_neighbor(weight_func = 'rectangular', neighbors = tune()) |> \n",
    "  set_engine('kknn') |> \n",
    "  set_mode('classification')\n",
    "\n",
    "shelter_vfold <- vfold_cv(train_data, v = 5, strata = outcome_group)\n",
    "\n",
    "possible_k <- tibble(neighbors = seq(from = 1, to = 10))\n",
    "\n",
    "knn_workflow <- workflow() |> \n",
    "  add_recipe(recipe) |> \n",
    "  add_model(knn_spec) |> \n",
    "  tune_grid(resamples = shelter_vfold, grid = possible_k) |> \n",
    "  collect_metrics()\n",
    "\n",
    "accuracies <- knn_workflow |>\n",
    "  filter(.metric == \"accuracy\")\n",
    "head(accuracies)\n",
    "\n",
    "#graph results to find the k value that gives the best accuracy\n",
    "accuracy_versus_k<-ggplot(accuracies, aes (x=neighbors, y=mean))+\n",
    "  geom_point()+\n",
    "  geom_line()+\n",
    "  labs(x= \"Neighbors\", y= \"Accuracy Estimate\")+\n",
    "  scale_x_continuous(breaks=seq(0,25, by=1))+\n",
    "  scale_y_continuous(limits=c(0.4, 1.0))\n",
    "accuracy_versus_k"
   ]
  },
  {
   "cell_type": "markdown",
   "metadata": {},
   "source": [
    "Using the elbow graph above, we found that the best number of neighbors (k) for our classification is 5. This is the point where any significant improvement in accuracy begins to plateau and choosing a k value that is larger could potentially lead to over fitting the model."
   ]
  },
  {
   "cell_type": "code",
   "execution_count": null,
   "metadata": {},
   "outputs": [],
   "source": [
    "knn_model <-nearest_neighbor(weight_func = 'rectangular', neighbors = 5) |> \n",
    "  set_engine('kknn') |> \n",
    "  set_mode('classification')\n",
    "\n",
    "knn_fit <- workflow() |> \n",
    "  add_recipe(recipe) |> \n",
    "  add_model(knn_model) |> \n",
    "  fit(data = train_data)\n",
    "\n",
    "predictions <- predict(knn_fit, new_data = test_data) |> \n",
    "  bind_cols(test_data)\n",
    "\n",
    "predictions <- predictions %>%\n",
    "  mutate(outcome_group = factor(outcome_group))\n",
    "\n",
    "confusion_matrix <- conf_mat(predictions, truth = outcome_group, estimate = .pred_class)\n",
    "print(confusion_matrix)\n",
    "\n",
    "accuracy <- accuracy(predictions, truth = outcome_group, estimate = .pred_class)\n",
    "print(accuracy)"
   ]
  },
  {
   "cell_type": "code",
   "execution_count": null,
   "metadata": {},
   "outputs": [],
   "source": [
    "importance <- varImp(knn_model, scale = FALSE)\n",
    "\n",
    "# Convert importance to a data frame\n",
    "importance_df <- as.data.frame(importance$importance)\n",
    "importance_df$Feature <- rownames(importance_df)\n",
    "\n",
    "# Plot feature importance\n",
    "ggplot(importance_df, aes(x = reorder(Feature, Overall), y = Overall)) +\n",
    "  geom_bar(stat = \"identity\") +\n",
    "  coord_flip() +\n",
    "  labs(title = \"Feature Importance for KNN Model\", x = \"Features\", y = \"Importance Score\")"
   ]
  },
  {
   "cell_type": "markdown",
   "metadata": {},
   "source": [
    "## Discussion"
   ]
  },
  {
   "cell_type": "markdown",
   "metadata": {},
   "source": []
  },
  {
   "cell_type": "markdown",
   "metadata": {},
   "source": [
    "## References"
   ]
  },
  {
   "cell_type": "markdown",
   "metadata": {},
   "source": []
  }
 ],
 "metadata": {
  "kernelspec": {
   "display_name": "R",
   "language": "R",
   "name": "ir"
  },
  "language_info": {
   "codemirror_mode": "r",
   "file_extension": ".r",
   "mimetype": "text/x-r-source",
   "name": "R",
   "pygments_lexer": "r",
   "version": "4.4.2"
  }
 },
 "nbformat": 4,
 "nbformat_minor": 4
}

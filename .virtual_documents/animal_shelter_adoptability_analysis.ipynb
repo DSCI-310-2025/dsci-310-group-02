





#install.packages("kknn")
#install.packages("caret")
#install.packages("rlang")


library(readr)
library(tidyverse)
library(ggplot2) 
library(dplyr) 
library(tidymodels)
library(caret) 

















animals <- read_csv("https://raw.githubusercontent.com/rfordatascience/tidytuesday/refs/heads/main/data/2025/2025-03-04/longbeach.csv", show_col_types = FALSE) 
head(animals)





#cleaning the data: 
animals <- animals %>% 
    select(animal_type, primary_color, sex, dob, intake_condition, intake_type, intake_date, outcome_date, outcome_type) %>% 
    #filter(animal_type != "other") %>%
    na.omit()

animals$outcome_group <- recode(animals$outcome_type,
  "adoption" = "Adopted",
  "foster" = "Adopted",
  "foster to adopt" = "Adopted",
  "homefirst" = "Adopted",
  "rescue" = "Adopted",
  .default = "Not Adopted"  # Everything else is considered "Not Adopted"
)

head(animals)





#summary of the data: 
summary(animals)
summmary_table -> table(animals$outcome_group)
grid.table(summary_table, top = "Table 1: Summary of data")


target_table <- table(animals$outcome_type)
grid.table(target_table, top = "Summary of Target")


intake_table <- table(animals$intake_condition)
grid.table(intake_table, top = "Summary of Intake Condition Variable")





#Visualization of animal type vs outcome type / outcome group

ggplot(animals, aes(x = animal_type, fill = outcome_type)) +
  geom_bar(position = "fill") +  
  labs(title = "Figure 1: Animal Type vs Outcome Type",
       x = "Animal Type",
       y = "Proportion") +
  theme_minimal() +
  scale_y_continuous(labels = scales::percent)  


ggplot(animals, aes(x = animal_type, fill = outcome_group)) +
  geom_bar(position = "fill") + 
  labs(title = "Figure 2: Animal Type vs Outcome Group (adopted / not adopted)",
       x = "Animal Type",
       y = "Proportion") +
  theme_minimal() +
  scale_y_continuous(labels = scales::percent)





#visualization of intake condition vs outcome type / outcome group 

ggplot(animals, aes(x = intake_condition, fill = outcome_type)) +
  geom_bar(position = "fill") + 
  labs(title = Figure 3: "Intake Condition vs Outcome Type",
       x = "Intake Condition",
       y = "Proportion") +
  theme_minimal() +
  scale_y_continuous(labels = scales::percent) +
  theme(axis.text.x = element_text(angle = 45, hjust = 1))


ggplot(animals, aes(x = intake_condition, fill = outcome_group)) +
  geom_bar(position = "fill") +
  labs(title = "Figure 4: Intake Condition vs Outcome Group (adopted / not adopted)",
       x = "Intake Condition",
       y = "Proportion") +
  theme_minimal() +
  scale_y_continuous(labels = scales::percent) +
  theme(axis.text.x = element_text(angle = 45, hjust = 1))





animals$age_at_intake <- as.numeric(difftime(Sys.Date(), animals$dob, units = "days")) / 365

# Boxplot of age at intake vs outcome_type
ggplot(animals, aes(x = outcome_group, y = age_at_intake, fill = outcome_group)) +
  geom_boxplot() +
  labs(title = "Figure 5: Age at Intake vs Outcome Group (adopted / not adopted)",
       x = "Outcome Type",
       y = "Age at Intake (Years)") +
  theme_minimal()








animals$dob <- as.Date(animals$dob) 
intake_date <- as.Date(animals$intake_date) 
outcome_date <- as.Date(animals$outcome_date)

animals <- animals |> 
  mutate(days_in_shelter = outcome_date - intake_date, age_in_days = outcome_date - dob)





animals <- animals |> 
  mutate(age_in_days = as.numeric(age_in_days), days_in_shelter = as.numeric(days_in_shelter)) |> 
  select('animal_type', 'sex', 'intake_condition', 'intake_type', 'days_in_shelter', 'age_in_days', 'outcome_group')
head(animals)








# Splitting data into train and test data
set.seed(2)
data_split <- initial_split(animals, prop = 0.7, strata = outcome_group)
train_data <- training(data_split)
test_data <- testing(data_split)
head(train_data)





recipe <- recipe(outcome_group ~ ., data = train_data) %>%
  step_novel(all_nominal_predictors()) %>%  # Handle new levels
  step_dummy(all_nominal_predictors()) %>%  # Convert categorical to dummy variables
  step_normalize(days_in_shelter, age_in_days)        # Normalize the numerical predictor

knn_spec <- nearest_neighbor(weight_func = 'rectangular', neighbors = tune()) |> 
  set_engine('kknn') |> 
  set_mode('classification')

shelter_vfold <- vfold_cv(train_data, v = 5, strata = outcome_group)

possible_k <- tibble(neighbors = seq(from = 1, to = 10))

knn_workflow <- workflow() |> 
  add_recipe(recipe) |> 
  add_model(knn_spec) |> 
  tune_grid(resamples = shelter_vfold, grid = possible_k) |> 
  collect_metrics()

accuracies <- knn_workflow |>
  filter(.metric == "accuracy")
head(accuracies)


#graph results to find the k value that gives the best accuracy
accuracy_versus_k<-ggplot(accuracies, aes (x=neighbors, y=mean))+
  geom_point()+
  geom_line()+
  labs(title = "Figure 6: Elbow Plot", x= "Neighbors", y= "Accuracy Estimate")+
  scale_x_continuous(breaks=seq(0,25, by=1))+
  scale_y_continuous(limits=c(0.4, 1.0))
accuracy_versus_k





knn_model <-nearest_neighbor(weight_func = 'rectangular', neighbors = 5) |> 
  set_engine('kknn') |> 
  set_mode('classification')

knn_fit <- workflow() |> 
  add_recipe(recipe) |> 
  add_model(knn_model) |> 
  fit(data = train_data)

predictions <- predict(knn_fit, new_data = test_data) |> 
  bind_cols(test_data)

predictions <- predictions %>%
  mutate(outcome_group = factor(outcome_group))

confusion_matrix <- conf_mat(predictions, truth = outcome_group, estimate = .pred_class)
print(confusion_matrix)

accuracy <- accuracy(predictions, truth = outcome_group, estimate = .pred_class)
print(accuracy)


cm_tibble <- confusion_matrix$table %>% 
  as_tibble() %>%
  rename(Truth = 1, Prediction = 2, Count = 3)

ggplot(cm_tibble, aes(x = Prediction, y = Truth, fill = Count)) +
  geom_tile() +
  geom_text(aes(label = Count), color = "white", size = 5) +
  scale_fill_gradient(low = "lightblue", high = "darkblue") +
  labs(title = "Figure 7: Confusion Matrix for KNN Model", x = "Predicted", y = "Actual", fill = "Count") +
  theme_minimal()















